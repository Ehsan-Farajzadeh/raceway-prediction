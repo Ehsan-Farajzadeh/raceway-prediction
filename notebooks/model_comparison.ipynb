{
 "cells": [
  {
   "cell_type": "markdown",
   "id": "62a8c710",
   "metadata": {},
   "source": [
    "# 📈 LSTM vs CNN-LSTM Model for Raceway Size Prediction\n",
    "This notebook demonstrates the comparison between **LSTM** and **CNN-LSTM** models for predicting raceway depth and height using CFD-generated thermal image data.\n",
    "\n",
    "**Steps:**\n",
    "1. Load preprocessed data\n",
    "2. Train LSTM model\n",
    "3. Train CNN-LSTM model\n",
    "4. Evaluate and visualize the results\n",
    "5. Compare the models"
   ]
  },
  {
   "cell_type": "code",
   "execution_count": null,
   "id": "9b833032",
   "metadata": {},
   "outputs": [],
   "source": [
    "import pandas as pd\n",
    "import numpy as np\n",
    "from sklearn.preprocessing import MinMaxScaler\n",
    "from sklearn.metrics import mean_absolute_error, mean_squared_error, r2_score\n",
    "from tensorflow.keras.models import Sequential\n",
    "from tensorflow.keras.layers import LSTM, Dense, Conv1D, MaxPooling1D, Flatten\n",
    "import matplotlib.pyplot as plt\n",
    "from math import sqrt"
   ]
  },
  {
   "cell_type": "code",
   "execution_count": null,
   "id": "7fbd6c6a",
   "metadata": {},
   "outputs": [],
   "source": [
    "# Load dataset\n",
    "df = pd.read_csv('../LSTM.csv')\n",
    "time_column = 'time'\n",
    "rates = [100, 120, 140, 150, 160, 180, 200]\n",
    "features = [f'Depth_up_{r}' for r in rates] + [f'Depth_down_{r}' for r in rates] + [f'Height_{r}' for r in rates]\n",
    "\n",
    "# Normalize\n",
    "scaler = MinMaxScaler()\n",
    "scaled_df = pd.DataFrame(scaler.fit_transform(df[features]), columns=features)"
   ]
  },
  {
   "cell_type": "code",
   "execution_count": null,
   "id": "ff1c2198",
   "metadata": {},
   "outputs": [],
   "source": [
    "# Create lag features\n",
    "def create_lag_features(data, n_lags=5):\n",
    "    lagged = data.copy()\n",
    "    for i in range(1, n_lags+1):\n",
    "        for col in data.columns:\n",
    "            lagged[f'{col}_lag_{i}'] = data[col].shift(i)\n",
    "    return lagged.dropna()\n",
    "\n",
    "n_lags = 5\n",
    "lagged_df = create_lag_features(scaled_df, n_lags)\n",
    "lagged_df[time_column] = df[time_column].iloc[n_lags:].values"
   ]
  },
  {
   "cell_type": "code",
   "execution_count": null,
   "id": "85e8de71",
   "metadata": {},
   "outputs": [],
   "source": [
    "train_df = lagged_df[lagged_df[time_column] < 2.8]\n",
    "test_df = lagged_df[lagged_df[time_column] >= 2.8]\n",
    "\n",
    "X_train = train_df.drop(features + [time_column], axis=1).values\n",
    "Y_train = train_df[features].values\n",
    "X_test = test_df.drop(features + [time_column], axis=1).values\n",
    "Y_test = test_df[features].values\n",
    "\n",
    "# Reshape for models\n",
    "X_train = X_train.reshape((X_train.shape[0], n_lags, X_train.shape[1] // n_lags))\n",
    "X_test = X_test.reshape((X_test.shape[0], n_lags, X_test.shape[1] // n_lags))"
   ]
  },
  {
   "cell_type": "code",
   "execution_count": null,
   "id": "39bef4f5",
   "metadata": {},
   "outputs": [],
   "source": [
    "# Train LSTM model\n",
    "lstm = Sequential()\n",
    "lstm.add(LSTM(50, activation='relu', input_shape=(X_train.shape[1], X_train.shape[2])))\n",
    "lstm.add(Dense(len(features)))\n",
    "lstm.compile(optimizer='adam', loss='mse')\n",
    "\n",
    "lstm_history = lstm.fit(X_train, Y_train, epochs=50, verbose=1)\n",
    "lstm_pred = lstm.predict(X_test)\n",
    "lstm_pred_inv = scaler.inverse_transform(lstm_pred)\n",
    "Y_test_inv = scaler.inverse_transform(Y_test)"
   ]
  },
  {
   "cell_type": "code",
   "execution_count": null,
   "id": "1b300e0e",
   "metadata": {},
   "outputs": [],
   "source": [
    "# Train CNN-LSTM model\n",
    "cnn_lstm = Sequential()\n",
    "cnn_lstm.add(Conv1D(64, kernel_size=2, activation='relu', input_shape=(X_train.shape[1], X_train.shape[2])))\n",
    "cnn_lstm.add(MaxPooling1D(pool_size=2))\n",
    "cnn_lstm.add(Flatten())\n",
    "cnn_lstm.add(Dense(50, activation='relu'))\n",
    "cnn_lstm.add(Dense(len(features)))\n",
    "cnn_lstm.compile(optimizer='adam', loss='mse')\n",
    "\n",
    "cnn_lstm_history = cnn_lstm.fit(X_train, Y_train, epochs=50, verbose=1)\n",
    "cnn_lstm_pred = cnn_lstm.predict(X_test)\n",
    "cnn_lstm_pred_inv = scaler.inverse_transform(cnn_lstm_pred)"
   ]
  },
  {
   "cell_type": "code",
   "execution_count": null,
   "id": "99764d5f",
   "metadata": {},
   "outputs": [],
   "source": [
    "# Evaluation metrics\n",
    "def print_metrics(name, y_true, y_pred):\n",
    "    mae = mean_absolute_error(y_true, y_pred)\n",
    "    rmse = sqrt(mean_squared_error(y_true, y_pred))\n",
    "    r2 = r2_score(y_true, y_pred)\n",
    "    print(f'{name} → MAE: {mae:.2f}, RMSE: {rmse:.2f}, R²: {r2:.3f}')\n",
    "\n",
    "print_metrics('LSTM', Y_test_inv, lstm_pred_inv)\n",
    "print_metrics('CNN-LSTM', Y_test_inv, cnn_lstm_pred_inv)"
   ]
  },
  {
   "cell_type": "code",
   "execution_count": null,
   "id": "fdb4533c",
   "metadata": {},
   "outputs": [],
   "source": [
    "# Plot predictions for one test sample\n",
    "sample_idx = 0\n",
    "plt.figure(figsize=(12,5))\n",
    "plt.plot(Y_test_inv[sample_idx], label='Actual', marker='o')\n",
    "plt.plot(lstm_pred_inv[sample_idx], label='LSTM', marker='x')\n",
    "plt.plot(cnn_lstm_pred_inv[sample_idx], label='CNN-LSTM', marker='^')\n",
    "plt.title('Raceway Size Prediction - Sample 0')\n",
    "plt.xlabel('Feature Index')\n",
    "plt.ylabel('Raceway Size (mm)')\n",
    "plt.legend()\n",
    "plt.grid(True)\n",
    "plt.tight_layout()\n",
    "plt.show()"
   ]
  }
 ],
 "metadata": {},
 "nbformat": 4,
 "nbformat_minor": 5
}
